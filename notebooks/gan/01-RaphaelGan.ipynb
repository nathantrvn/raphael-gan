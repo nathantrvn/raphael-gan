{
 "cells": [
  {
   "cell_type": "markdown",
   "metadata": {},
   "source": [
    "# Genesis of Raphaël\n",
    "\n",
    "Unleashing the power of DCNN to create random Raphaëls."
   ]
  },
  {
   "cell_type": "code",
   "execution_count": 1,
   "metadata": {},
   "outputs": [],
   "source": [
    "import numpy as np\n",
    "import pandas as pd\n",
    "import tensorflow as tf\n",
    "from tensorflow.keras.layers import Conv2D, MaxPooling2D, SpatialDropout2D, Conv2DTranspose\n",
    "from tensorflow.keras.layers import Dropout, Input, Dense, Flatten, Reshape, BatchNormalization\n",
    "from tensorflow.keras.layers import LeakyReLU\n",
    "from tensorflow.keras.models import Sequential, Model"
   ]
  },
  {
   "cell_type": "code",
   "execution_count": 2,
   "metadata": {},
   "outputs": [],
   "source": [
    "def build_generator(latent_size):\n",
    "    \n",
    "    generator = Sequential([\n",
    "        # (100)\n",
    "        Input(shape=(100,), name=\"LatentNoise\"),\n",
    "        Dense(16*16*384, activation=\"relu\"),\n",
    "        # (16, 16, 384)\n",
    "        Reshape((16, 16, 384)),\n",
    "        # (32, 32, 192)\n",
    "        Conv2DTranspose(192, 5, strides=2, padding=\"same\", activation=\"relu\"),\n",
    "        BatchNormalization(),\n",
    "        # (64, 64, 96)\n",
    "        Conv2DTranspose(96, 5, strides=2, padding=\"same\", activation=\"relu\"),\n",
    "        BatchNormalization(),\n",
    "        # (128, 128, 3)\n",
    "        Conv2DTranspose(3, 5, strides=2, padding=\"same\", activation=\"tanh\")\n",
    "    ])\n",
    "    \n",
    "    return generator\n",
    "\n",
    "def build_discriminator():\n",
    "    \n",
    "    discriminator = Sequential([\n",
    "        # (128, 128, 3)\n",
    "        Input(shape=(128, 128, 3), name=\"InputImages\"),\n",
    "        Conv2D(64, 3, padding=\"same\", strides=1),\n",
    "        MaxPooling2D(padding=\"same\"),\n",
    "        LeakyReLu(0.2),\n",
    "        SpatialDropout2D(0.2),\n",
    "        \n",
    "        Conv2D(128, 3, padding=\"same\", strides=1),\n",
    "        LeakyReLu(0.2),\n",
    "        SpatialDropout2D(0.2),\n",
    "        \n",
    "        Conv2D(256, 3, padding=\"same\", strides=1),\n",
    "        LeakyReLu(0.2),\n",
    "        SpatialDropout2D(0.2),\n",
    "        \n",
    "        Flatten(),\n",
    "        Dense(2, activation=\"softmax\")        \n",
    "    ])\n",
    "    \n",
    "    return discriminator"
   ]
  },
  {
   "cell_type": "code",
   "execution_count": null,
   "metadata": {},
   "outputs": [],
   "source": [
    "generator = build_generator(100)"
   ]
  }
 ],
 "metadata": {
  "kernelspec": {
   "display_name": "Python 3",
   "language": "python",
   "name": "python3"
  },
  "language_info": {
   "codemirror_mode": {
    "name": "ipython",
    "version": 3
   },
   "file_extension": ".py",
   "mimetype": "text/x-python",
   "name": "python",
   "nbconvert_exporter": "python",
   "pygments_lexer": "ipython3",
   "version": "3.6.8"
  }
 },
 "nbformat": 4,
 "nbformat_minor": 4
}
