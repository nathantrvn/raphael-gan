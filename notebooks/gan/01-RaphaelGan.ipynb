{
 "cells": [
  {
   "cell_type": "markdown",
   "metadata": {},
   "source": [
    "# Genesis of Raphaël\n",
    "\n",
    "Unleashing the power of DCNN to create random Raphaëls."
   ]
  },
  {
   "cell_type": "code",
   "execution_count": 26,
   "metadata": {},
   "outputs": [],
   "source": [
    "import numpy as np\n",
    "import pandas as pd\n",
    "import tensorflow as tf\n",
    "from tensorflow import keras\n",
    "from tensorflow.keras.layers import Conv2D, MaxPooling2D, SpatialDropout2D, Conv2DTranspose, UpSampling2D\n",
    "from tensorflow.keras.layers import Dropout, Input, Dense, Flatten, Reshape, BatchNormalization\n",
    "from tensorflow.keras.layers import LeakyReLU\n",
    "from tensorflow.keras.models import Sequential, Model\n",
    "\n",
    "SAVE_PATH = \"../../models\""
   ]
  },
  {
   "cell_type": "code",
   "execution_count": 68,
   "metadata": {},
   "outputs": [],
   "source": [
    "def build_generator(latent_size):\n",
    "    \n",
    "    generator = Sequential([\n",
    "        # (latent_size)\n",
    "        Input(shape=(latent_size,), name=\"LatentNoise\"),\n",
    "        Dense(16*16*128, activation=\"relu\"),\n",
    "        # (16, 16, 384)\n",
    "        Reshape((16, 16, 128)),\n",
    "        # (32, 32, 192)\n",
    "        UpSampling2D(),\n",
    "        Conv2DTranspose(64, 3, padding=\"same\", activation=\"relu\"),\n",
    "        BatchNormalization(momentum=0.8),\n",
    "        # (64, 64, 96)\n",
    "        UpSampling2D(),\n",
    "        Conv2DTranspose(32, 3, padding=\"same\", activation=\"relu\"),\n",
    "        BatchNormalization(momentum=0.8),\n",
    "        # (128, 128, 3)\n",
    "        UpSampling2D(),\n",
    "        Conv2DTranspose(3, 3, padding=\"same\", activation=\"tanh\")\n",
    "    ], name=\"generator\")\n",
    "    \n",
    "    return generator\n",
    "\n",
    "def build_discriminator():\n",
    "    \n",
    "    discriminator = Sequential([\n",
    "        # (128, 128, 3)\n",
    "        Input(shape=(128, 128, 3), name=\"InputImages\"),\n",
    "        Conv2D(32, 3, padding=\"same\", kernel_initializer=\"he_normal\"),\n",
    "        LeakyReLU(0.2),\n",
    "        Conv2D(32, 3, padding=\"same\", kernel_initializer=\"he_normal\"),\n",
    "        LeakyReLU(0.2),\n",
    "        MaxPooling2D(),\n",
    "        Dropout(0.2),\n",
    "        \n",
    "        Conv2D(64, 3, padding=\"same\", kernel_initializer=\"he_normal\"),\n",
    "        LeakyReLU(0.2),\n",
    "        Conv2D(64, 3, padding=\"same\", kernel_initializer=\"he_normal\"),\n",
    "        LeakyReLU(0.2),\n",
    "        MaxPooling2D(),\n",
    "        Dropout(0.2),\n",
    "        \n",
    "        Conv2D(128, 3, padding=\"same\", kernel_initializer=\"he_normal\"),\n",
    "        LeakyReLU(0.2),\n",
    "        Conv2D(128, 3, padding=\"same\", kernel_initializer=\"he_normal\"),\n",
    "        LeakyReLU(0.2),\n",
    "        MaxPooling2D(),\n",
    "        \n",
    "        Flatten(),\n",
    "        Dropout(0.2),\n",
    "        Dense(128, activation=\"relu\"),\n",
    "        Dropout(0.2),\n",
    "        Dense(2, activation=\"softmax\")        \n",
    "    ], name=\"discriminator\")\n",
    "    \n",
    "    return discriminator"
   ]
  },
  {
   "cell_type": "code",
   "execution_count": 69,
   "metadata": {},
   "outputs": [],
   "source": [
    "generator = build_generator(100)"
   ]
  },
  {
   "cell_type": "code",
   "execution_count": 70,
   "metadata": {},
   "outputs": [],
   "source": [
    "discriminator = build_discriminator()"
   ]
  },
  {
   "cell_type": "code",
   "execution_count": 71,
   "metadata": {},
   "outputs": [
    {
     "name": "stdout",
     "output_type": "stream",
     "text": [
      "Model: \"discriminator\"\n",
      "_________________________________________________________________\n",
      "Layer (type)                 Output Shape              Param #   \n",
      "=================================================================\n",
      "conv2d_55 (Conv2D)           (None, 128, 128, 32)      896       \n",
      "_________________________________________________________________\n",
      "leaky_re_lu_54 (LeakyReLU)   (None, 128, 128, 32)      0         \n",
      "_________________________________________________________________\n",
      "conv2d_56 (Conv2D)           (None, 128, 128, 32)      9248      \n",
      "_________________________________________________________________\n",
      "leaky_re_lu_55 (LeakyReLU)   (None, 128, 128, 32)      0         \n",
      "_________________________________________________________________\n",
      "max_pooling2d_27 (MaxPooling (None, 64, 64, 32)        0         \n",
      "_________________________________________________________________\n",
      "dropout_36 (Dropout)         (None, 64, 64, 32)        0         \n",
      "_________________________________________________________________\n",
      "conv2d_57 (Conv2D)           (None, 64, 64, 64)        18496     \n",
      "_________________________________________________________________\n",
      "leaky_re_lu_56 (LeakyReLU)   (None, 64, 64, 64)        0         \n",
      "_________________________________________________________________\n",
      "conv2d_58 (Conv2D)           (None, 64, 64, 64)        36928     \n",
      "_________________________________________________________________\n",
      "leaky_re_lu_57 (LeakyReLU)   (None, 64, 64, 64)        0         \n",
      "_________________________________________________________________\n",
      "max_pooling2d_28 (MaxPooling (None, 32, 32, 64)        0         \n",
      "_________________________________________________________________\n",
      "dropout_37 (Dropout)         (None, 32, 32, 64)        0         \n",
      "_________________________________________________________________\n",
      "conv2d_59 (Conv2D)           (None, 32, 32, 128)       73856     \n",
      "_________________________________________________________________\n",
      "leaky_re_lu_58 (LeakyReLU)   (None, 32, 32, 128)       0         \n",
      "_________________________________________________________________\n",
      "conv2d_60 (Conv2D)           (None, 32, 32, 128)       147584    \n",
      "_________________________________________________________________\n",
      "leaky_re_lu_59 (LeakyReLU)   (None, 32, 32, 128)       0         \n",
      "_________________________________________________________________\n",
      "max_pooling2d_29 (MaxPooling (None, 16, 16, 128)       0         \n",
      "_________________________________________________________________\n",
      "flatten_9 (Flatten)          (None, 32768)             0         \n",
      "_________________________________________________________________\n",
      "dropout_38 (Dropout)         (None, 32768)             0         \n",
      "_________________________________________________________________\n",
      "dense_28 (Dense)             (None, 128)               4194432   \n",
      "_________________________________________________________________\n",
      "dropout_39 (Dropout)         (None, 128)               0         \n",
      "_________________________________________________________________\n",
      "dense_29 (Dense)             (None, 2)                 258       \n",
      "=================================================================\n",
      "Total params: 4,481,698\n",
      "Trainable params: 4,481,698\n",
      "Non-trainable params: 0\n",
      "_________________________________________________________________\n"
     ]
    }
   ],
   "source": [
    "discriminator.summary()"
   ]
  },
  {
   "cell_type": "code",
   "execution_count": 72,
   "metadata": {},
   "outputs": [
    {
     "name": "stdout",
     "output_type": "stream",
     "text": [
      "Model: \"generator\"\n",
      "_________________________________________________________________\n",
      "Layer (type)                 Output Shape              Param #   \n",
      "=================================================================\n",
      "dense_27 (Dense)             (None, 32768)             3309568   \n",
      "_________________________________________________________________\n",
      "reshape_9 (Reshape)          (None, 16, 16, 128)       0         \n",
      "_________________________________________________________________\n",
      "up_sampling2d_15 (UpSampling (None, 32, 32, 128)       0         \n",
      "_________________________________________________________________\n",
      "conv2d_transpose_27 (Conv2DT (None, 32, 32, 64)        73792     \n",
      "_________________________________________________________________\n",
      "batch_normalization_18 (Batc (None, 32, 32, 64)        256       \n",
      "_________________________________________________________________\n",
      "up_sampling2d_16 (UpSampling (None, 64, 64, 64)        0         \n",
      "_________________________________________________________________\n",
      "conv2d_transpose_28 (Conv2DT (None, 64, 64, 32)        18464     \n",
      "_________________________________________________________________\n",
      "batch_normalization_19 (Batc (None, 64, 64, 32)        128       \n",
      "_________________________________________________________________\n",
      "up_sampling2d_17 (UpSampling (None, 128, 128, 32)      0         \n",
      "_________________________________________________________________\n",
      "conv2d_transpose_29 (Conv2DT (None, 128, 128, 3)       867       \n",
      "=================================================================\n",
      "Total params: 3,403,075\n",
      "Trainable params: 3,402,883\n",
      "Non-trainable params: 192\n",
      "_________________________________________________________________\n"
     ]
    }
   ],
   "source": [
    "generator.summary()"
   ]
  },
  {
   "cell_type": "code",
   "execution_count": 79,
   "metadata": {},
   "outputs": [],
   "source": [
    "def build_combined(discriminator, generator, latent_size):\n",
    "    noise = Input(shape=(latent_size, ), name=\"noise\")\n",
    "    fake_raph = generator(noise)\n",
    "    discriminator.trainable = False\n",
    "    validation = discriminator(fake_raph)\n",
    "    return Model(noise, validation, name=\"combined\")"
   ]
  },
  {
   "cell_type": "code",
   "execution_count": 80,
   "metadata": {},
   "outputs": [],
   "source": [
    "combined = build_combined(discriminator, generator, 100)"
   ]
  },
  {
   "cell_type": "code",
   "execution_count": 81,
   "metadata": {},
   "outputs": [
    {
     "name": "stdout",
     "output_type": "stream",
     "text": [
      "Model: \"combined\"\n",
      "_________________________________________________________________\n",
      "Layer (type)                 Output Shape              Param #   \n",
      "=================================================================\n",
      "noise (InputLayer)           [(None, 100)]             0         \n",
      "_________________________________________________________________\n",
      "generator (Sequential)       (None, 128, 128, 3)       3403075   \n",
      "_________________________________________________________________\n",
      "discriminator (Sequential)   (None, 2)                 4481698   \n",
      "=================================================================\n",
      "Total params: 7,884,773\n",
      "Trainable params: 3,402,883\n",
      "Non-trainable params: 4,481,890\n",
      "_________________________________________________________________\n"
     ]
    }
   ],
   "source": [
    "combined.summary()"
   ]
  },
  {
   "cell_type": "code",
   "execution_count": null,
   "metadata": {},
   "outputs": [],
   "source": []
  }
 ],
 "metadata": {
  "kernelspec": {
   "display_name": "Python 3",
   "language": "python",
   "name": "python3"
  },
  "language_info": {
   "codemirror_mode": {
    "name": "ipython",
    "version": 3
   },
   "file_extension": ".py",
   "mimetype": "text/x-python",
   "name": "python",
   "nbconvert_exporter": "python",
   "pygments_lexer": "ipython3",
   "version": "3.6.8"
  }
 },
 "nbformat": 4,
 "nbformat_minor": 4
}
